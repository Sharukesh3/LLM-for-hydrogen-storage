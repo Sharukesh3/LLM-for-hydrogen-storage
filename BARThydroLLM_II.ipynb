{
  "nbformat": 4,
  "nbformat_minor": 0,
  "metadata": {
    "colab": {
      "provenance": [],
      "gpuType": "T4"
    },
    "kernelspec": {
      "name": "python3",
      "display_name": "Python 3"
    },
    "language_info": {
      "name": "python"
    },
    "accelerator": "GPU",
    "widgets": {
      "application/vnd.jupyter.widget-state+json": {
        "0104e4d375d94938a3aa4591f5db4dcf": {
          "model_module": "@jupyter-widgets/controls",
          "model_name": "HBoxModel",
          "model_module_version": "1.5.0",
          "state": {
            "_dom_classes": [],
            "_model_module": "@jupyter-widgets/controls",
            "_model_module_version": "1.5.0",
            "_model_name": "HBoxModel",
            "_view_count": null,
            "_view_module": "@jupyter-widgets/controls",
            "_view_module_version": "1.5.0",
            "_view_name": "HBoxView",
            "box_style": "",
            "children": [
              "IPY_MODEL_e814f9472ee44136b2fac3d270200f14",
              "IPY_MODEL_56cfae7d33664fadbad07b7df62e2794",
              "IPY_MODEL_64cc367dba37486c9f621791ad7ff2cf"
            ],
            "layout": "IPY_MODEL_44a6aeb69de74619835b6c87320a9c26"
          }
        },
        "e814f9472ee44136b2fac3d270200f14": {
          "model_module": "@jupyter-widgets/controls",
          "model_name": "HTMLModel",
          "model_module_version": "1.5.0",
          "state": {
            "_dom_classes": [],
            "_model_module": "@jupyter-widgets/controls",
            "_model_module_version": "1.5.0",
            "_model_name": "HTMLModel",
            "_view_count": null,
            "_view_module": "@jupyter-widgets/controls",
            "_view_module_version": "1.5.0",
            "_view_name": "HTMLView",
            "description": "",
            "description_tooltip": null,
            "layout": "IPY_MODEL_e447618560344d878136f16d0e6a08f7",
            "placeholder": "​",
            "style": "IPY_MODEL_d2c00e288bb14d3d947ae7be75c97757",
            "value": "100%"
          }
        },
        "56cfae7d33664fadbad07b7df62e2794": {
          "model_module": "@jupyter-widgets/controls",
          "model_name": "FloatProgressModel",
          "model_module_version": "1.5.0",
          "state": {
            "_dom_classes": [],
            "_model_module": "@jupyter-widgets/controls",
            "_model_module_version": "1.5.0",
            "_model_name": "FloatProgressModel",
            "_view_count": null,
            "_view_module": "@jupyter-widgets/controls",
            "_view_module_version": "1.5.0",
            "_view_name": "ProgressView",
            "bar_style": "success",
            "description": "",
            "description_tooltip": null,
            "layout": "IPY_MODEL_75cc71ea48ca4f0cb2dee3e71c8c202a",
            "max": 157,
            "min": 0,
            "orientation": "horizontal",
            "style": "IPY_MODEL_ab81f1ce0f9f4eb4acc64cff93565af6",
            "value": 157
          }
        },
        "64cc367dba37486c9f621791ad7ff2cf": {
          "model_module": "@jupyter-widgets/controls",
          "model_name": "HTMLModel",
          "model_module_version": "1.5.0",
          "state": {
            "_dom_classes": [],
            "_model_module": "@jupyter-widgets/controls",
            "_model_module_version": "1.5.0",
            "_model_name": "HTMLModel",
            "_view_count": null,
            "_view_module": "@jupyter-widgets/controls",
            "_view_module_version": "1.5.0",
            "_view_name": "HTMLView",
            "description": "",
            "description_tooltip": null,
            "layout": "IPY_MODEL_dc56931b4b3b4cc29b5c2a9a52a701fb",
            "placeholder": "​",
            "style": "IPY_MODEL_1800767f6ead4d588a6f9f214fe2bd9c",
            "value": " 157/157 [02:50&lt;00:00,  1.23it/s]"
          }
        },
        "44a6aeb69de74619835b6c87320a9c26": {
          "model_module": "@jupyter-widgets/base",
          "model_name": "LayoutModel",
          "model_module_version": "1.2.0",
          "state": {
            "_model_module": "@jupyter-widgets/base",
            "_model_module_version": "1.2.0",
            "_model_name": "LayoutModel",
            "_view_count": null,
            "_view_module": "@jupyter-widgets/base",
            "_view_module_version": "1.2.0",
            "_view_name": "LayoutView",
            "align_content": null,
            "align_items": null,
            "align_self": null,
            "border": null,
            "bottom": null,
            "display": null,
            "flex": null,
            "flex_flow": null,
            "grid_area": null,
            "grid_auto_columns": null,
            "grid_auto_flow": null,
            "grid_auto_rows": null,
            "grid_column": null,
            "grid_gap": null,
            "grid_row": null,
            "grid_template_areas": null,
            "grid_template_columns": null,
            "grid_template_rows": null,
            "height": null,
            "justify_content": null,
            "justify_items": null,
            "left": null,
            "margin": null,
            "max_height": null,
            "max_width": null,
            "min_height": null,
            "min_width": null,
            "object_fit": null,
            "object_position": null,
            "order": null,
            "overflow": null,
            "overflow_x": null,
            "overflow_y": null,
            "padding": null,
            "right": null,
            "top": null,
            "visibility": null,
            "width": null
          }
        },
        "e447618560344d878136f16d0e6a08f7": {
          "model_module": "@jupyter-widgets/base",
          "model_name": "LayoutModel",
          "model_module_version": "1.2.0",
          "state": {
            "_model_module": "@jupyter-widgets/base",
            "_model_module_version": "1.2.0",
            "_model_name": "LayoutModel",
            "_view_count": null,
            "_view_module": "@jupyter-widgets/base",
            "_view_module_version": "1.2.0",
            "_view_name": "LayoutView",
            "align_content": null,
            "align_items": null,
            "align_self": null,
            "border": null,
            "bottom": null,
            "display": null,
            "flex": null,
            "flex_flow": null,
            "grid_area": null,
            "grid_auto_columns": null,
            "grid_auto_flow": null,
            "grid_auto_rows": null,
            "grid_column": null,
            "grid_gap": null,
            "grid_row": null,
            "grid_template_areas": null,
            "grid_template_columns": null,
            "grid_template_rows": null,
            "height": null,
            "justify_content": null,
            "justify_items": null,
            "left": null,
            "margin": null,
            "max_height": null,
            "max_width": null,
            "min_height": null,
            "min_width": null,
            "object_fit": null,
            "object_position": null,
            "order": null,
            "overflow": null,
            "overflow_x": null,
            "overflow_y": null,
            "padding": null,
            "right": null,
            "top": null,
            "visibility": null,
            "width": null
          }
        },
        "d2c00e288bb14d3d947ae7be75c97757": {
          "model_module": "@jupyter-widgets/controls",
          "model_name": "DescriptionStyleModel",
          "model_module_version": "1.5.0",
          "state": {
            "_model_module": "@jupyter-widgets/controls",
            "_model_module_version": "1.5.0",
            "_model_name": "DescriptionStyleModel",
            "_view_count": null,
            "_view_module": "@jupyter-widgets/base",
            "_view_module_version": "1.2.0",
            "_view_name": "StyleView",
            "description_width": ""
          }
        },
        "75cc71ea48ca4f0cb2dee3e71c8c202a": {
          "model_module": "@jupyter-widgets/base",
          "model_name": "LayoutModel",
          "model_module_version": "1.2.0",
          "state": {
            "_model_module": "@jupyter-widgets/base",
            "_model_module_version": "1.2.0",
            "_model_name": "LayoutModel",
            "_view_count": null,
            "_view_module": "@jupyter-widgets/base",
            "_view_module_version": "1.2.0",
            "_view_name": "LayoutView",
            "align_content": null,
            "align_items": null,
            "align_self": null,
            "border": null,
            "bottom": null,
            "display": null,
            "flex": null,
            "flex_flow": null,
            "grid_area": null,
            "grid_auto_columns": null,
            "grid_auto_flow": null,
            "grid_auto_rows": null,
            "grid_column": null,
            "grid_gap": null,
            "grid_row": null,
            "grid_template_areas": null,
            "grid_template_columns": null,
            "grid_template_rows": null,
            "height": null,
            "justify_content": null,
            "justify_items": null,
            "left": null,
            "margin": null,
            "max_height": null,
            "max_width": null,
            "min_height": null,
            "min_width": null,
            "object_fit": null,
            "object_position": null,
            "order": null,
            "overflow": null,
            "overflow_x": null,
            "overflow_y": null,
            "padding": null,
            "right": null,
            "top": null,
            "visibility": null,
            "width": null
          }
        },
        "ab81f1ce0f9f4eb4acc64cff93565af6": {
          "model_module": "@jupyter-widgets/controls",
          "model_name": "ProgressStyleModel",
          "model_module_version": "1.5.0",
          "state": {
            "_model_module": "@jupyter-widgets/controls",
            "_model_module_version": "1.5.0",
            "_model_name": "ProgressStyleModel",
            "_view_count": null,
            "_view_module": "@jupyter-widgets/base",
            "_view_module_version": "1.2.0",
            "_view_name": "StyleView",
            "bar_color": null,
            "description_width": ""
          }
        },
        "dc56931b4b3b4cc29b5c2a9a52a701fb": {
          "model_module": "@jupyter-widgets/base",
          "model_name": "LayoutModel",
          "model_module_version": "1.2.0",
          "state": {
            "_model_module": "@jupyter-widgets/base",
            "_model_module_version": "1.2.0",
            "_model_name": "LayoutModel",
            "_view_count": null,
            "_view_module": "@jupyter-widgets/base",
            "_view_module_version": "1.2.0",
            "_view_name": "LayoutView",
            "align_content": null,
            "align_items": null,
            "align_self": null,
            "border": null,
            "bottom": null,
            "display": null,
            "flex": null,
            "flex_flow": null,
            "grid_area": null,
            "grid_auto_columns": null,
            "grid_auto_flow": null,
            "grid_auto_rows": null,
            "grid_column": null,
            "grid_gap": null,
            "grid_row": null,
            "grid_template_areas": null,
            "grid_template_columns": null,
            "grid_template_rows": null,
            "height": null,
            "justify_content": null,
            "justify_items": null,
            "left": null,
            "margin": null,
            "max_height": null,
            "max_width": null,
            "min_height": null,
            "min_width": null,
            "object_fit": null,
            "object_position": null,
            "order": null,
            "overflow": null,
            "overflow_x": null,
            "overflow_y": null,
            "padding": null,
            "right": null,
            "top": null,
            "visibility": null,
            "width": null
          }
        },
        "1800767f6ead4d588a6f9f214fe2bd9c": {
          "model_module": "@jupyter-widgets/controls",
          "model_name": "DescriptionStyleModel",
          "model_module_version": "1.5.0",
          "state": {
            "_model_module": "@jupyter-widgets/controls",
            "_model_module_version": "1.5.0",
            "_model_name": "DescriptionStyleModel",
            "_view_count": null,
            "_view_module": "@jupyter-widgets/base",
            "_view_module_version": "1.2.0",
            "_view_name": "StyleView",
            "description_width": ""
          }
        }
      }
    }
  },
  "cells": [
    {
      "cell_type": "markdown",
      "source": [
        "# **Large Language Model for Hydrogen Storage [Question-Answering]**"
      ],
      "metadata": {
        "id": "gNbFAxz7Rcij"
      }
    },
    {
      "cell_type": "markdown",
      "source": [
        "# Model Architecture\n",
        "\n",
        "![image.png](data:image/png;base64,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)"
      ],
      "metadata": {
        "id": "QS-mDZAfccBW"
      }
    },
    {
      "cell_type": "code",
      "execution_count": null,
      "metadata": {
        "id": "A7P8xbWg17l8"
      },
      "outputs": [],
      "source": [
        "!pip install -qU datasets pinecone-client==3.1.0 sentence-transformers torch"
      ]
    },
    {
      "cell_type": "markdown",
      "source": [
        "# **Loading Dataset**"
      ],
      "metadata": {
        "id": "MpZ87rMPDhDM"
      }
    },
    {
      "cell_type": "code",
      "source": [
        "df = pd.read_csv(\"hydroQ&A.csv\")\n",
        "df.head()"
      ],
      "metadata": {
        "colab": {
          "base_uri": "https://localhost:8080/",
          "height": 206
        },
        "id": "ClIs4PV2Ii57",
        "outputId": "e166c781-9fac-45d3-e329-cd61e9105db4"
      },
      "execution_count": null,
      "outputs": [
        {
          "output_type": "execute_result",
          "data": {
            "text/plain": [
              "                                                Link  \\\n",
              "0  https://www.scopus.com/inward/record.uri?eid=2...   \n",
              "1  https://www.scopus.com/inward/record.uri?eid=2...   \n",
              "2  https://www.scopus.com/inward/record.uri?eid=2...   \n",
              "3  https://www.scopus.com/inward/record.uri?eid=2...   \n",
              "4  https://www.scopus.com/inward/record.uri?eid=2...   \n",
              "\n",
              "                                            Abstract  \n",
              "0  Highly developed porous materials are urgently...  \n",
              "1  The urgent need to address climate issues incr...  \n",
              "2  The Li-Mg-B-H composite (2LiBH4 + MgH2) is ack...  \n",
              "3  A hydrogen compressed air energy storage power...  \n",
              "4  Supercritical cryogenic fluids are widely used...  "
            ],
            "text/html": [
              "\n",
              "  <div id=\"df-e3cbde1f-b8ab-4bd5-9823-4a9b38baa6ea\" class=\"colab-df-container\">\n",
              "    <div>\n",
              "<style scoped>\n",
              "    .dataframe tbody tr th:only-of-type {\n",
              "        vertical-align: middle;\n",
              "    }\n",
              "\n",
              "    .dataframe tbody tr th {\n",
              "        vertical-align: top;\n",
              "    }\n",
              "\n",
              "    .dataframe thead th {\n",
              "        text-align: right;\n",
              "    }\n",
              "</style>\n",
              "<table border=\"1\" class=\"dataframe\">\n",
              "  <thead>\n",
              "    <tr style=\"text-align: right;\">\n",
              "      <th></th>\n",
              "      <th>Link</th>\n",
              "      <th>Abstract</th>\n",
              "    </tr>\n",
              "  </thead>\n",
              "  <tbody>\n",
              "    <tr>\n",
              "      <th>0</th>\n",
              "      <td>https://www.scopus.com/inward/record.uri?eid=2...</td>\n",
              "      <td>Highly developed porous materials are urgently...</td>\n",
              "    </tr>\n",
              "    <tr>\n",
              "      <th>1</th>\n",
              "      <td>https://www.scopus.com/inward/record.uri?eid=2...</td>\n",
              "      <td>The urgent need to address climate issues incr...</td>\n",
              "    </tr>\n",
              "    <tr>\n",
              "      <th>2</th>\n",
              "      <td>https://www.scopus.com/inward/record.uri?eid=2...</td>\n",
              "      <td>The Li-Mg-B-H composite (2LiBH4 + MgH2) is ack...</td>\n",
              "    </tr>\n",
              "    <tr>\n",
              "      <th>3</th>\n",
              "      <td>https://www.scopus.com/inward/record.uri?eid=2...</td>\n",
              "      <td>A hydrogen compressed air energy storage power...</td>\n",
              "    </tr>\n",
              "    <tr>\n",
              "      <th>4</th>\n",
              "      <td>https://www.scopus.com/inward/record.uri?eid=2...</td>\n",
              "      <td>Supercritical cryogenic fluids are widely used...</td>\n",
              "    </tr>\n",
              "  </tbody>\n",
              "</table>\n",
              "</div>\n",
              "    <div class=\"colab-df-buttons\">\n",
              "\n",
              "  <div class=\"colab-df-container\">\n",
              "    <button class=\"colab-df-convert\" onclick=\"convertToInteractive('df-e3cbde1f-b8ab-4bd5-9823-4a9b38baa6ea')\"\n",
              "            title=\"Convert this dataframe to an interactive table.\"\n",
              "            style=\"display:none;\">\n",
              "\n",
              "  <svg xmlns=\"http://www.w3.org/2000/svg\" height=\"24px\" viewBox=\"0 -960 960 960\">\n",
              "    <path d=\"M120-120v-720h720v720H120Zm60-500h600v-160H180v160Zm220 220h160v-160H400v160Zm0 220h160v-160H400v160ZM180-400h160v-160H180v160Zm440 0h160v-160H620v160ZM180-180h160v-160H180v160Zm440 0h160v-160H620v160Z\"/>\n",
              "  </svg>\n",
              "    </button>\n",
              "\n",
              "  <style>\n",
              "    .colab-df-container {\n",
              "      display:flex;\n",
              "      gap: 12px;\n",
              "    }\n",
              "\n",
              "    .colab-df-convert {\n",
              "      background-color: #E8F0FE;\n",
              "      border: none;\n",
              "      border-radius: 50%;\n",
              "      cursor: pointer;\n",
              "      display: none;\n",
              "      fill: #1967D2;\n",
              "      height: 32px;\n",
              "      padding: 0 0 0 0;\n",
              "      width: 32px;\n",
              "    }\n",
              "\n",
              "    .colab-df-convert:hover {\n",
              "      background-color: #E2EBFA;\n",
              "      box-shadow: 0px 1px 2px rgba(60, 64, 67, 0.3), 0px 1px 3px 1px rgba(60, 64, 67, 0.15);\n",
              "      fill: #174EA6;\n",
              "    }\n",
              "\n",
              "    .colab-df-buttons div {\n",
              "      margin-bottom: 4px;\n",
              "    }\n",
              "\n",
              "    [theme=dark] .colab-df-convert {\n",
              "      background-color: #3B4455;\n",
              "      fill: #D2E3FC;\n",
              "    }\n",
              "\n",
              "    [theme=dark] .colab-df-convert:hover {\n",
              "      background-color: #434B5C;\n",
              "      box-shadow: 0px 1px 3px 1px rgba(0, 0, 0, 0.15);\n",
              "      filter: drop-shadow(0px 1px 2px rgba(0, 0, 0, 0.3));\n",
              "      fill: #FFFFFF;\n",
              "    }\n",
              "  </style>\n",
              "\n",
              "    <script>\n",
              "      const buttonEl =\n",
              "        document.querySelector('#df-e3cbde1f-b8ab-4bd5-9823-4a9b38baa6ea button.colab-df-convert');\n",
              "      buttonEl.style.display =\n",
              "        google.colab.kernel.accessAllowed ? 'block' : 'none';\n",
              "\n",
              "      async function convertToInteractive(key) {\n",
              "        const element = document.querySelector('#df-e3cbde1f-b8ab-4bd5-9823-4a9b38baa6ea');\n",
              "        const dataTable =\n",
              "          await google.colab.kernel.invokeFunction('convertToInteractive',\n",
              "                                                    [key], {});\n",
              "        if (!dataTable) return;\n",
              "\n",
              "        const docLinkHtml = 'Like what you see? Visit the ' +\n",
              "          '<a target=\"_blank\" href=https://colab.research.google.com/notebooks/data_table.ipynb>data table notebook</a>'\n",
              "          + ' to learn more about interactive tables.';\n",
              "        element.innerHTML = '';\n",
              "        dataTable['output_type'] = 'display_data';\n",
              "        await google.colab.output.renderOutput(dataTable, element);\n",
              "        const docLink = document.createElement('div');\n",
              "        docLink.innerHTML = docLinkHtml;\n",
              "        element.appendChild(docLink);\n",
              "      }\n",
              "    </script>\n",
              "  </div>\n",
              "\n",
              "\n",
              "<div id=\"df-6df5cd6e-a424-41e7-9fdd-3b36b46fd330\">\n",
              "  <button class=\"colab-df-quickchart\" onclick=\"quickchart('df-6df5cd6e-a424-41e7-9fdd-3b36b46fd330')\"\n",
              "            title=\"Suggest charts\"\n",
              "            style=\"display:none;\">\n",
              "\n",
              "<svg xmlns=\"http://www.w3.org/2000/svg\" height=\"24px\"viewBox=\"0 0 24 24\"\n",
              "     width=\"24px\">\n",
              "    <g>\n",
              "        <path d=\"M19 3H5c-1.1 0-2 .9-2 2v14c0 1.1.9 2 2 2h14c1.1 0 2-.9 2-2V5c0-1.1-.9-2-2-2zM9 17H7v-7h2v7zm4 0h-2V7h2v10zm4 0h-2v-4h2v4z\"/>\n",
              "    </g>\n",
              "</svg>\n",
              "  </button>\n",
              "\n",
              "<style>\n",
              "  .colab-df-quickchart {\n",
              "      --bg-color: #E8F0FE;\n",
              "      --fill-color: #1967D2;\n",
              "      --hover-bg-color: #E2EBFA;\n",
              "      --hover-fill-color: #174EA6;\n",
              "      --disabled-fill-color: #AAA;\n",
              "      --disabled-bg-color: #DDD;\n",
              "  }\n",
              "\n",
              "  [theme=dark] .colab-df-quickchart {\n",
              "      --bg-color: #3B4455;\n",
              "      --fill-color: #D2E3FC;\n",
              "      --hover-bg-color: #434B5C;\n",
              "      --hover-fill-color: #FFFFFF;\n",
              "      --disabled-bg-color: #3B4455;\n",
              "      --disabled-fill-color: #666;\n",
              "  }\n",
              "\n",
              "  .colab-df-quickchart {\n",
              "    background-color: var(--bg-color);\n",
              "    border: none;\n",
              "    border-radius: 50%;\n",
              "    cursor: pointer;\n",
              "    display: none;\n",
              "    fill: var(--fill-color);\n",
              "    height: 32px;\n",
              "    padding: 0;\n",
              "    width: 32px;\n",
              "  }\n",
              "\n",
              "  .colab-df-quickchart:hover {\n",
              "    background-color: var(--hover-bg-color);\n",
              "    box-shadow: 0 1px 2px rgba(60, 64, 67, 0.3), 0 1px 3px 1px rgba(60, 64, 67, 0.15);\n",
              "    fill: var(--button-hover-fill-color);\n",
              "  }\n",
              "\n",
              "  .colab-df-quickchart-complete:disabled,\n",
              "  .colab-df-quickchart-complete:disabled:hover {\n",
              "    background-color: var(--disabled-bg-color);\n",
              "    fill: var(--disabled-fill-color);\n",
              "    box-shadow: none;\n",
              "  }\n",
              "\n",
              "  .colab-df-spinner {\n",
              "    border: 2px solid var(--fill-color);\n",
              "    border-color: transparent;\n",
              "    border-bottom-color: var(--fill-color);\n",
              "    animation:\n",
              "      spin 1s steps(1) infinite;\n",
              "  }\n",
              "\n",
              "  @keyframes spin {\n",
              "    0% {\n",
              "      border-color: transparent;\n",
              "      border-bottom-color: var(--fill-color);\n",
              "      border-left-color: var(--fill-color);\n",
              "    }\n",
              "    20% {\n",
              "      border-color: transparent;\n",
              "      border-left-color: var(--fill-color);\n",
              "      border-top-color: var(--fill-color);\n",
              "    }\n",
              "    30% {\n",
              "      border-color: transparent;\n",
              "      border-left-color: var(--fill-color);\n",
              "      border-top-color: var(--fill-color);\n",
              "      border-right-color: var(--fill-color);\n",
              "    }\n",
              "    40% {\n",
              "      border-color: transparent;\n",
              "      border-right-color: var(--fill-color);\n",
              "      border-top-color: var(--fill-color);\n",
              "    }\n",
              "    60% {\n",
              "      border-color: transparent;\n",
              "      border-right-color: var(--fill-color);\n",
              "    }\n",
              "    80% {\n",
              "      border-color: transparent;\n",
              "      border-right-color: var(--fill-color);\n",
              "      border-bottom-color: var(--fill-color);\n",
              "    }\n",
              "    90% {\n",
              "      border-color: transparent;\n",
              "      border-bottom-color: var(--fill-color);\n",
              "    }\n",
              "  }\n",
              "</style>\n",
              "\n",
              "  <script>\n",
              "    async function quickchart(key) {\n",
              "      const quickchartButtonEl =\n",
              "        document.querySelector('#' + key + ' button');\n",
              "      quickchartButtonEl.disabled = true;  // To prevent multiple clicks.\n",
              "      quickchartButtonEl.classList.add('colab-df-spinner');\n",
              "      try {\n",
              "        const charts = await google.colab.kernel.invokeFunction(\n",
              "            'suggestCharts', [key], {});\n",
              "      } catch (error) {\n",
              "        console.error('Error during call to suggestCharts:', error);\n",
              "      }\n",
              "      quickchartButtonEl.classList.remove('colab-df-spinner');\n",
              "      quickchartButtonEl.classList.add('colab-df-quickchart-complete');\n",
              "    }\n",
              "    (() => {\n",
              "      let quickchartButtonEl =\n",
              "        document.querySelector('#df-6df5cd6e-a424-41e7-9fdd-3b36b46fd330 button');\n",
              "      quickchartButtonEl.style.display =\n",
              "        google.colab.kernel.accessAllowed ? 'block' : 'none';\n",
              "    })();\n",
              "  </script>\n",
              "</div>\n",
              "\n",
              "    </div>\n",
              "  </div>\n"
            ],
            "application/vnd.google.colaboratory.intrinsic+json": {
              "type": "dataframe",
              "variable_name": "df",
              "summary": "{\n  \"name\": \"df\",\n  \"rows\": 10000,\n  \"fields\": [\n    {\n      \"column\": \"Link\",\n      \"properties\": {\n        \"dtype\": \"string\",\n        \"num_unique_values\": 10000,\n        \"samples\": [\n          \"https://www.scopus.com/inward/record.uri?eid=2-s2.0-85152144144&doi=10.1016%2fj.ijhydene.2023.03.351&partnerID=40&md5=e4b2ec3eb50f330903cb63c6addfc3d1\",\n          \"https://www.scopus.com/inward/record.uri?eid=2-s2.0-85169586443&doi=10.1016%2fj.est.2023.108700&partnerID=40&md5=db0608de70b97201fdb8e08fcf60439d\",\n          \"https://www.scopus.com/inward/record.uri?eid=2-s2.0-85182260992&doi=10.1016%2fj.ijhydene.2024.01.030&partnerID=40&md5=f1e2490527b61a4c5e3ef387a48686f8\"\n        ],\n        \"semantic_type\": \"\",\n        \"description\": \"\"\n      }\n    },\n    {\n      \"column\": \"Abstract\",\n      \"properties\": {\n        \"dtype\": \"string\",\n        \"num_unique_values\": 9958,\n        \"samples\": [\n          \"In the context of the dual-carbon economy, HRSs play a critical role as an essential intermediary hub for upstream hydrogen production, midstream hydrogen storage and transportation, and downstream vehicle fueling. The use of renewable energy sources for hydrogen production and refueling has become a topic of great interest, and direct current (DC) microgrid-based HRSs are a promising model. However, there is a lack of research on the key influencing factors for the site selection of electric-hydrogen hybrid refueling stations. To address this research gap, this study reviewed the scientific literature on refueling station site selection and identified 34 site selection factors based on the characteristics of DC microgrid-based electric-hydrogen hybrid refueling stations. The importance of these factors was evaluated through a combination of fuzzy Delphi and LBWA models, and an optimized site selection evaluation index system was constructed. The results showed that hydrogen storage technology, wind speed, hydrogen production technology, lighting conditions, spatial safety, profit risk, and leakage risk are the key factors that influence site selection decisions. After eliminating nine non-important indicators, a site selection index system with 1-4-25 layers factors was established. The proposed key factors and index system have important guiding and reference significance for governments and investors in making site selection decisions and managing electric-hydrogen hybrid refueling station projects. \\u00a9 2023 Hydrogen Energy Publications LLC\",\n          \"Ionogels are emerging as soft materials for flexible strain sensors. However, the integration of multiple functionalities into a single ionogel for diverse applications in complex scenarios remains a challenge. In this study, we present a multifunctional nanocomposite ionogel that combines high strength, transparency, stretchability, temperature tolerance, adhesiveness, and 3D printing capabilities. The ionogels are fabricated through a one-step photopolymerization process involving acrylic acid and 2-acrylamide-2-methylpropanesulfonic acid in an ionic liquid, with Al(OH)3 nanoparticles serving as cross-linkers. The resulting ionogels exhibit robust noncovalent interactions, including ionic coordination, hydrogen bonding, and ionic dipole interactions, providing exceptional mechanical strength, conductivity, and wide temperature tolerance while ensuring strong adhesion to various substrates. Wearable strain sensors based on these ionogels can accurately detect and differentiate a range of movements, from large body motions such as bending limbs to subtle distinctions such as writing different letters. Additionally, the pregel solution can serve as printing ink for the rapid and efficient mass production of 3D printed high-precision microcircuits. Impressively, the nanocomposite ionogels exhibit a high latent heat value of 240 J g-1 at a melting temperature of \\u221265 \\u00b0C, suggesting significant potential for cold energy storage in ultralow-temperature cold-chain transportation systems. Thus, these outstanding features of the ionogels offer a promising strategy for advancing wearable electronics and cold energy storage systems. \\u00a9 2023 American Chemical Society\",\n          \"Black liquor (BL) is a by-product of the chemical pulping industry and is mainly used as a low-value fuel; however, its potential to produce high-value products has not been fully exploited. In this study, a green and simple strategy is reported for the gradient production of Na+-functionalized carbon quantum dots (Na+-CQDs) for the first time, N and S co-doped CQDs (N/S-CQDs), and N and S co-doped KOH-activated carbon (N/S-KAC) from BL by dialysis, hydrothermal carbonization and activation-carbonization, respectively. Due to the good electron trapping ability, photoluminescence and promising up-conversion luminescence of CQDs, the hydrogen evolution efficiency of Na+-CQDs/TiO2 and N/S-CQDs/TiO2 photocatalysts was improved by 2.45 and 1.46 times, respectively, compared with pure TiO2. N/S-KAC with a high specific surface area of 2294 m2 g\\u2212 1 provides an excellent specific capacitance of 253\\u00a0F g\\u2212 1 at 0.5\\u00a0A g\\u2212 1 and a promising energy density of 26.92 Wh kg\\u2212 1 under a power density of 566\\u00a0W kg\\u2212 1 for the fabricated symmetrical supercapacitor. Moreover, the electrode material has good cycling stability with a capacitance retention of ~ 93.91% after 5000 cycles. This pathway provides a versatile and scalable approach for the construction and co-production of nanostructured materials, photocatalysts and energy storage devices. \\u00a9 2023, The Author(s), under exclusive licence to Springer Nature Switzerland AG.\"\n        ],\n        \"semantic_type\": \"\",\n        \"description\": \"\"\n      }\n    }\n  ]\n}"
            }
          },
          "metadata": {},
          "execution_count": 107
        }
      ]
    },
    {
      "cell_type": "code",
      "source": [
        "df = df.drop(\"Link\", axis = 1)"
      ],
      "metadata": {
        "id": "OnQtlwQMJ6Zv"
      },
      "execution_count": null,
      "outputs": []
    },
    {
      "cell_type": "code",
      "source": [
        "df"
      ],
      "metadata": {
        "colab": {
          "base_uri": "https://localhost:8080/",
          "height": 424
        },
        "id": "l4t_EiGlKSf8",
        "outputId": "7fe60831-42b3-4142-88ea-2f9ea8334b7c"
      },
      "execution_count": null,
      "outputs": [
        {
          "output_type": "execute_result",
          "data": {
            "text/plain": [
              "                                               Abstract\n",
              "0     Highly developed porous materials are urgently...\n",
              "1     The urgent need to address climate issues incr...\n",
              "2     The Li-Mg-B-H composite (2LiBH4 + MgH2) is ack...\n",
              "3     A hydrogen compressed air energy storage power...\n",
              "4     Supercritical cryogenic fluids are widely used...\n",
              "...                                                 ...\n",
              "9995  Anisotropic etching silicon (Si) is an active ...\n",
              "9996  Toward carbon peaking and carbon neutrality go...\n",
              "9997  As an energy carrier, it has a long history. A...\n",
              "9998  Hydrogen needs to be transported and distribut...\n",
              "9999  In order to improve the efficiency of hydrogen...\n",
              "\n",
              "[10000 rows x 1 columns]"
            ],
            "text/html": [
              "\n",
              "  <div id=\"df-217a9023-4f2f-4151-a3a1-7417a74e36b3\" class=\"colab-df-container\">\n",
              "    <div>\n",
              "<style scoped>\n",
              "    .dataframe tbody tr th:only-of-type {\n",
              "        vertical-align: middle;\n",
              "    }\n",
              "\n",
              "    .dataframe tbody tr th {\n",
              "        vertical-align: top;\n",
              "    }\n",
              "\n",
              "    .dataframe thead th {\n",
              "        text-align: right;\n",
              "    }\n",
              "</style>\n",
              "<table border=\"1\" class=\"dataframe\">\n",
              "  <thead>\n",
              "    <tr style=\"text-align: right;\">\n",
              "      <th></th>\n",
              "      <th>Abstract</th>\n",
              "    </tr>\n",
              "  </thead>\n",
              "  <tbody>\n",
              "    <tr>\n",
              "      <th>0</th>\n",
              "      <td>Highly developed porous materials are urgently...</td>\n",
              "    </tr>\n",
              "    <tr>\n",
              "      <th>1</th>\n",
              "      <td>The urgent need to address climate issues incr...</td>\n",
              "    </tr>\n",
              "    <tr>\n",
              "      <th>2</th>\n",
              "      <td>The Li-Mg-B-H composite (2LiBH4 + MgH2) is ack...</td>\n",
              "    </tr>\n",
              "    <tr>\n",
              "      <th>3</th>\n",
              "      <td>A hydrogen compressed air energy storage power...</td>\n",
              "    </tr>\n",
              "    <tr>\n",
              "      <th>4</th>\n",
              "      <td>Supercritical cryogenic fluids are widely used...</td>\n",
              "    </tr>\n",
              "    <tr>\n",
              "      <th>...</th>\n",
              "      <td>...</td>\n",
              "    </tr>\n",
              "    <tr>\n",
              "      <th>9995</th>\n",
              "      <td>Anisotropic etching silicon (Si) is an active ...</td>\n",
              "    </tr>\n",
              "    <tr>\n",
              "      <th>9996</th>\n",
              "      <td>Toward carbon peaking and carbon neutrality go...</td>\n",
              "    </tr>\n",
              "    <tr>\n",
              "      <th>9997</th>\n",
              "      <td>As an energy carrier, it has a long history. A...</td>\n",
              "    </tr>\n",
              "    <tr>\n",
              "      <th>9998</th>\n",
              "      <td>Hydrogen needs to be transported and distribut...</td>\n",
              "    </tr>\n",
              "    <tr>\n",
              "      <th>9999</th>\n",
              "      <td>In order to improve the efficiency of hydrogen...</td>\n",
              "    </tr>\n",
              "  </tbody>\n",
              "</table>\n",
              "<p>10000 rows × 1 columns</p>\n",
              "</div>\n",
              "    <div class=\"colab-df-buttons\">\n",
              "\n",
              "  <div class=\"colab-df-container\">\n",
              "    <button class=\"colab-df-convert\" onclick=\"convertToInteractive('df-217a9023-4f2f-4151-a3a1-7417a74e36b3')\"\n",
              "            title=\"Convert this dataframe to an interactive table.\"\n",
              "            style=\"display:none;\">\n",
              "\n",
              "  <svg xmlns=\"http://www.w3.org/2000/svg\" height=\"24px\" viewBox=\"0 -960 960 960\">\n",
              "    <path d=\"M120-120v-720h720v720H120Zm60-500h600v-160H180v160Zm220 220h160v-160H400v160Zm0 220h160v-160H400v160ZM180-400h160v-160H180v160Zm440 0h160v-160H620v160ZM180-180h160v-160H180v160Zm440 0h160v-160H620v160Z\"/>\n",
              "  </svg>\n",
              "    </button>\n",
              "\n",
              "  <style>\n",
              "    .colab-df-container {\n",
              "      display:flex;\n",
              "      gap: 12px;\n",
              "    }\n",
              "\n",
              "    .colab-df-convert {\n",
              "      background-color: #E8F0FE;\n",
              "      border: none;\n",
              "      border-radius: 50%;\n",
              "      cursor: pointer;\n",
              "      display: none;\n",
              "      fill: #1967D2;\n",
              "      height: 32px;\n",
              "      padding: 0 0 0 0;\n",
              "      width: 32px;\n",
              "    }\n",
              "\n",
              "    .colab-df-convert:hover {\n",
              "      background-color: #E2EBFA;\n",
              "      box-shadow: 0px 1px 2px rgba(60, 64, 67, 0.3), 0px 1px 3px 1px rgba(60, 64, 67, 0.15);\n",
              "      fill: #174EA6;\n",
              "    }\n",
              "\n",
              "    .colab-df-buttons div {\n",
              "      margin-bottom: 4px;\n",
              "    }\n",
              "\n",
              "    [theme=dark] .colab-df-convert {\n",
              "      background-color: #3B4455;\n",
              "      fill: #D2E3FC;\n",
              "    }\n",
              "\n",
              "    [theme=dark] .colab-df-convert:hover {\n",
              "      background-color: #434B5C;\n",
              "      box-shadow: 0px 1px 3px 1px rgba(0, 0, 0, 0.15);\n",
              "      filter: drop-shadow(0px 1px 2px rgba(0, 0, 0, 0.3));\n",
              "      fill: #FFFFFF;\n",
              "    }\n",
              "  </style>\n",
              "\n",
              "    <script>\n",
              "      const buttonEl =\n",
              "        document.querySelector('#df-217a9023-4f2f-4151-a3a1-7417a74e36b3 button.colab-df-convert');\n",
              "      buttonEl.style.display =\n",
              "        google.colab.kernel.accessAllowed ? 'block' : 'none';\n",
              "\n",
              "      async function convertToInteractive(key) {\n",
              "        const element = document.querySelector('#df-217a9023-4f2f-4151-a3a1-7417a74e36b3');\n",
              "        const dataTable =\n",
              "          await google.colab.kernel.invokeFunction('convertToInteractive',\n",
              "                                                    [key], {});\n",
              "        if (!dataTable) return;\n",
              "\n",
              "        const docLinkHtml = 'Like what you see? Visit the ' +\n",
              "          '<a target=\"_blank\" href=https://colab.research.google.com/notebooks/data_table.ipynb>data table notebook</a>'\n",
              "          + ' to learn more about interactive tables.';\n",
              "        element.innerHTML = '';\n",
              "        dataTable['output_type'] = 'display_data';\n",
              "        await google.colab.output.renderOutput(dataTable, element);\n",
              "        const docLink = document.createElement('div');\n",
              "        docLink.innerHTML = docLinkHtml;\n",
              "        element.appendChild(docLink);\n",
              "      }\n",
              "    </script>\n",
              "  </div>\n",
              "\n",
              "\n",
              "<div id=\"df-c3a4f088-a571-4f2d-bba4-5083f090d0cd\">\n",
              "  <button class=\"colab-df-quickchart\" onclick=\"quickchart('df-c3a4f088-a571-4f2d-bba4-5083f090d0cd')\"\n",
              "            title=\"Suggest charts\"\n",
              "            style=\"display:none;\">\n",
              "\n",
              "<svg xmlns=\"http://www.w3.org/2000/svg\" height=\"24px\"viewBox=\"0 0 24 24\"\n",
              "     width=\"24px\">\n",
              "    <g>\n",
              "        <path d=\"M19 3H5c-1.1 0-2 .9-2 2v14c0 1.1.9 2 2 2h14c1.1 0 2-.9 2-2V5c0-1.1-.9-2-2-2zM9 17H7v-7h2v7zm4 0h-2V7h2v10zm4 0h-2v-4h2v4z\"/>\n",
              "    </g>\n",
              "</svg>\n",
              "  </button>\n",
              "\n",
              "<style>\n",
              "  .colab-df-quickchart {\n",
              "      --bg-color: #E8F0FE;\n",
              "      --fill-color: #1967D2;\n",
              "      --hover-bg-color: #E2EBFA;\n",
              "      --hover-fill-color: #174EA6;\n",
              "      --disabled-fill-color: #AAA;\n",
              "      --disabled-bg-color: #DDD;\n",
              "  }\n",
              "\n",
              "  [theme=dark] .colab-df-quickchart {\n",
              "      --bg-color: #3B4455;\n",
              "      --fill-color: #D2E3FC;\n",
              "      --hover-bg-color: #434B5C;\n",
              "      --hover-fill-color: #FFFFFF;\n",
              "      --disabled-bg-color: #3B4455;\n",
              "      --disabled-fill-color: #666;\n",
              "  }\n",
              "\n",
              "  .colab-df-quickchart {\n",
              "    background-color: var(--bg-color);\n",
              "    border: none;\n",
              "    border-radius: 50%;\n",
              "    cursor: pointer;\n",
              "    display: none;\n",
              "    fill: var(--fill-color);\n",
              "    height: 32px;\n",
              "    padding: 0;\n",
              "    width: 32px;\n",
              "  }\n",
              "\n",
              "  .colab-df-quickchart:hover {\n",
              "    background-color: var(--hover-bg-color);\n",
              "    box-shadow: 0 1px 2px rgba(60, 64, 67, 0.3), 0 1px 3px 1px rgba(60, 64, 67, 0.15);\n",
              "    fill: var(--button-hover-fill-color);\n",
              "  }\n",
              "\n",
              "  .colab-df-quickchart-complete:disabled,\n",
              "  .colab-df-quickchart-complete:disabled:hover {\n",
              "    background-color: var(--disabled-bg-color);\n",
              "    fill: var(--disabled-fill-color);\n",
              "    box-shadow: none;\n",
              "  }\n",
              "\n",
              "  .colab-df-spinner {\n",
              "    border: 2px solid var(--fill-color);\n",
              "    border-color: transparent;\n",
              "    border-bottom-color: var(--fill-color);\n",
              "    animation:\n",
              "      spin 1s steps(1) infinite;\n",
              "  }\n",
              "\n",
              "  @keyframes spin {\n",
              "    0% {\n",
              "      border-color: transparent;\n",
              "      border-bottom-color: var(--fill-color);\n",
              "      border-left-color: var(--fill-color);\n",
              "    }\n",
              "    20% {\n",
              "      border-color: transparent;\n",
              "      border-left-color: var(--fill-color);\n",
              "      border-top-color: var(--fill-color);\n",
              "    }\n",
              "    30% {\n",
              "      border-color: transparent;\n",
              "      border-left-color: var(--fill-color);\n",
              "      border-top-color: var(--fill-color);\n",
              "      border-right-color: var(--fill-color);\n",
              "    }\n",
              "    40% {\n",
              "      border-color: transparent;\n",
              "      border-right-color: var(--fill-color);\n",
              "      border-top-color: var(--fill-color);\n",
              "    }\n",
              "    60% {\n",
              "      border-color: transparent;\n",
              "      border-right-color: var(--fill-color);\n",
              "    }\n",
              "    80% {\n",
              "      border-color: transparent;\n",
              "      border-right-color: var(--fill-color);\n",
              "      border-bottom-color: var(--fill-color);\n",
              "    }\n",
              "    90% {\n",
              "      border-color: transparent;\n",
              "      border-bottom-color: var(--fill-color);\n",
              "    }\n",
              "  }\n",
              "</style>\n",
              "\n",
              "  <script>\n",
              "    async function quickchart(key) {\n",
              "      const quickchartButtonEl =\n",
              "        document.querySelector('#' + key + ' button');\n",
              "      quickchartButtonEl.disabled = true;  // To prevent multiple clicks.\n",
              "      quickchartButtonEl.classList.add('colab-df-spinner');\n",
              "      try {\n",
              "        const charts = await google.colab.kernel.invokeFunction(\n",
              "            'suggestCharts', [key], {});\n",
              "      } catch (error) {\n",
              "        console.error('Error during call to suggestCharts:', error);\n",
              "      }\n",
              "      quickchartButtonEl.classList.remove('colab-df-spinner');\n",
              "      quickchartButtonEl.classList.add('colab-df-quickchart-complete');\n",
              "    }\n",
              "    (() => {\n",
              "      let quickchartButtonEl =\n",
              "        document.querySelector('#df-c3a4f088-a571-4f2d-bba4-5083f090d0cd button');\n",
              "      quickchartButtonEl.style.display =\n",
              "        google.colab.kernel.accessAllowed ? 'block' : 'none';\n",
              "    })();\n",
              "  </script>\n",
              "</div>\n",
              "\n",
              "  <div id=\"id_b88ae9dc-03a1-479e-89ac-16989518c115\">\n",
              "    <style>\n",
              "      .colab-df-generate {\n",
              "        background-color: #E8F0FE;\n",
              "        border: none;\n",
              "        border-radius: 50%;\n",
              "        cursor: pointer;\n",
              "        display: none;\n",
              "        fill: #1967D2;\n",
              "        height: 32px;\n",
              "        padding: 0 0 0 0;\n",
              "        width: 32px;\n",
              "      }\n",
              "\n",
              "      .colab-df-generate:hover {\n",
              "        background-color: #E2EBFA;\n",
              "        box-shadow: 0px 1px 2px rgba(60, 64, 67, 0.3), 0px 1px 3px 1px rgba(60, 64, 67, 0.15);\n",
              "        fill: #174EA6;\n",
              "      }\n",
              "\n",
              "      [theme=dark] .colab-df-generate {\n",
              "        background-color: #3B4455;\n",
              "        fill: #D2E3FC;\n",
              "      }\n",
              "\n",
              "      [theme=dark] .colab-df-generate:hover {\n",
              "        background-color: #434B5C;\n",
              "        box-shadow: 0px 1px 3px 1px rgba(0, 0, 0, 0.15);\n",
              "        filter: drop-shadow(0px 1px 2px rgba(0, 0, 0, 0.3));\n",
              "        fill: #FFFFFF;\n",
              "      }\n",
              "    </style>\n",
              "    <button class=\"colab-df-generate\" onclick=\"generateWithVariable('df')\"\n",
              "            title=\"Generate code using this dataframe.\"\n",
              "            style=\"display:none;\">\n",
              "\n",
              "  <svg xmlns=\"http://www.w3.org/2000/svg\" height=\"24px\"viewBox=\"0 0 24 24\"\n",
              "       width=\"24px\">\n",
              "    <path d=\"M7,19H8.4L18.45,9,17,7.55,7,17.6ZM5,21V16.75L18.45,3.32a2,2,0,0,1,2.83,0l1.4,1.43a1.91,1.91,0,0,1,.58,1.4,1.91,1.91,0,0,1-.58,1.4L9.25,21ZM18.45,9,17,7.55Zm-12,3A5.31,5.31,0,0,0,4.9,8.1,5.31,5.31,0,0,0,1,6.5,5.31,5.31,0,0,0,4.9,4.9,5.31,5.31,0,0,0,6.5,1,5.31,5.31,0,0,0,8.1,4.9,5.31,5.31,0,0,0,12,6.5,5.46,5.46,0,0,0,6.5,12Z\"/>\n",
              "  </svg>\n",
              "    </button>\n",
              "    <script>\n",
              "      (() => {\n",
              "      const buttonEl =\n",
              "        document.querySelector('#id_b88ae9dc-03a1-479e-89ac-16989518c115 button.colab-df-generate');\n",
              "      buttonEl.style.display =\n",
              "        google.colab.kernel.accessAllowed ? 'block' : 'none';\n",
              "\n",
              "      buttonEl.onclick = () => {\n",
              "        google.colab.notebook.generateWithVariable('df');\n",
              "      }\n",
              "      })();\n",
              "    </script>\n",
              "  </div>\n",
              "\n",
              "    </div>\n",
              "  </div>\n"
            ],
            "application/vnd.google.colaboratory.intrinsic+json": {
              "type": "dataframe",
              "variable_name": "df",
              "summary": "{\n  \"name\": \"df\",\n  \"rows\": 10000,\n  \"fields\": [\n    {\n      \"column\": \"Abstract\",\n      \"properties\": {\n        \"dtype\": \"string\",\n        \"num_unique_values\": 9958,\n        \"samples\": [\n          \"In the context of the dual-carbon economy, HRSs play a critical role as an essential intermediary hub for upstream hydrogen production, midstream hydrogen storage and transportation, and downstream vehicle fueling. The use of renewable energy sources for hydrogen production and refueling has become a topic of great interest, and direct current (DC) microgrid-based HRSs are a promising model. However, there is a lack of research on the key influencing factors for the site selection of electric-hydrogen hybrid refueling stations. To address this research gap, this study reviewed the scientific literature on refueling station site selection and identified 34 site selection factors based on the characteristics of DC microgrid-based electric-hydrogen hybrid refueling stations. The importance of these factors was evaluated through a combination of fuzzy Delphi and LBWA models, and an optimized site selection evaluation index system was constructed. The results showed that hydrogen storage technology, wind speed, hydrogen production technology, lighting conditions, spatial safety, profit risk, and leakage risk are the key factors that influence site selection decisions. After eliminating nine non-important indicators, a site selection index system with 1-4-25 layers factors was established. The proposed key factors and index system have important guiding and reference significance for governments and investors in making site selection decisions and managing electric-hydrogen hybrid refueling station projects. \\u00a9 2023 Hydrogen Energy Publications LLC\",\n          \"Ionogels are emerging as soft materials for flexible strain sensors. However, the integration of multiple functionalities into a single ionogel for diverse applications in complex scenarios remains a challenge. In this study, we present a multifunctional nanocomposite ionogel that combines high strength, transparency, stretchability, temperature tolerance, adhesiveness, and 3D printing capabilities. The ionogels are fabricated through a one-step photopolymerization process involving acrylic acid and 2-acrylamide-2-methylpropanesulfonic acid in an ionic liquid, with Al(OH)3 nanoparticles serving as cross-linkers. The resulting ionogels exhibit robust noncovalent interactions, including ionic coordination, hydrogen bonding, and ionic dipole interactions, providing exceptional mechanical strength, conductivity, and wide temperature tolerance while ensuring strong adhesion to various substrates. Wearable strain sensors based on these ionogels can accurately detect and differentiate a range of movements, from large body motions such as bending limbs to subtle distinctions such as writing different letters. Additionally, the pregel solution can serve as printing ink for the rapid and efficient mass production of 3D printed high-precision microcircuits. Impressively, the nanocomposite ionogels exhibit a high latent heat value of 240 J g-1 at a melting temperature of \\u221265 \\u00b0C, suggesting significant potential for cold energy storage in ultralow-temperature cold-chain transportation systems. Thus, these outstanding features of the ionogels offer a promising strategy for advancing wearable electronics and cold energy storage systems. \\u00a9 2023 American Chemical Society\",\n          \"Black liquor (BL) is a by-product of the chemical pulping industry and is mainly used as a low-value fuel; however, its potential to produce high-value products has not been fully exploited. In this study, a green and simple strategy is reported for the gradient production of Na+-functionalized carbon quantum dots (Na+-CQDs) for the first time, N and S co-doped CQDs (N/S-CQDs), and N and S co-doped KOH-activated carbon (N/S-KAC) from BL by dialysis, hydrothermal carbonization and activation-carbonization, respectively. Due to the good electron trapping ability, photoluminescence and promising up-conversion luminescence of CQDs, the hydrogen evolution efficiency of Na+-CQDs/TiO2 and N/S-CQDs/TiO2 photocatalysts was improved by 2.45 and 1.46 times, respectively, compared with pure TiO2. N/S-KAC with a high specific surface area of 2294 m2 g\\u2212 1 provides an excellent specific capacitance of 253\\u00a0F g\\u2212 1 at 0.5\\u00a0A g\\u2212 1 and a promising energy density of 26.92 Wh kg\\u2212 1 under a power density of 566\\u00a0W kg\\u2212 1 for the fabricated symmetrical supercapacitor. Moreover, the electrode material has good cycling stability with a capacitance retention of ~ 93.91% after 5000 cycles. This pathway provides a versatile and scalable approach for the construction and co-production of nanostructured materials, photocatalysts and energy storage devices. \\u00a9 2023, The Author(s), under exclusive licence to Springer Nature Switzerland AG.\"\n        ],\n        \"semantic_type\": \"\",\n        \"description\": \"\"\n      }\n    }\n  ]\n}"
            }
          },
          "metadata": {},
          "execution_count": 109
        }
      ]
    },
    {
      "cell_type": "code",
      "source": [
        "df.shape"
      ],
      "metadata": {
        "colab": {
          "base_uri": "https://localhost:8080/"
        },
        "id": "pwYSw09gIi3c",
        "outputId": "6a5259a6-f5f2-4b4c-e10d-59e1121cf5fe"
      },
      "execution_count": null,
      "outputs": [
        {
          "output_type": "execute_result",
          "data": {
            "text/plain": [
              "(10000, 1)"
            ]
          },
          "metadata": {},
          "execution_count": 110
        }
      ]
    },
    {
      "cell_type": "markdown",
      "source": [
        "\n",
        "\n",
        "---\n",
        "\n",
        "\n",
        "\n",
        "---\n",
        "\n"
      ],
      "metadata": {
        "id": "c7Icik--TC45"
      }
    },
    {
      "cell_type": "markdown",
      "source": [
        "# **Initializing Pinecone Index**"
      ],
      "metadata": {
        "id": "NcgQ-BbcDZWf"
      }
    },
    {
      "cell_type": "code",
      "source": [
        "import os\n",
        "from pinecone import Pinecone\n",
        "\n",
        "# Set the API key directly in the code\n",
        "api_key = 'ebdeef51-da66-4b97-9902-6feffc6a890c'\n",
        "\n",
        "# Initialize the Pinecone client using the API key\n",
        "pc = Pinecone(api_key=api_key)"
      ],
      "metadata": {
        "id": "SnPCpp57A5MH"
      },
      "execution_count": null,
      "outputs": []
    },
    {
      "cell_type": "code",
      "source": [
        "from pinecone import ServerlessSpec\n",
        "\n",
        "cloud = os.environ.get('PINECONE_CLOUD') or 'aws'\n",
        "region = os.environ.get('PINECONE_REGION') or 'us-east-1'\n",
        "\n",
        "spec = ServerlessSpec(cloud=cloud, region=region)"
      ],
      "metadata": {
        "id": "AWxkAyIXA5Jc"
      },
      "execution_count": null,
      "outputs": []
    },
    {
      "cell_type": "code",
      "source": [
        "index_name = \"hydro-question-answering\""
      ],
      "metadata": {
        "id": "Lj3UOa4TA5HB"
      },
      "execution_count": null,
      "outputs": []
    },
    {
      "cell_type": "code",
      "source": [
        "import time\n",
        "\n",
        "# check if index already exists (it shouldn't if this is first time)\n",
        "if index_name not in pc.list_indexes().names():\n",
        "    # if does not exist, create index\n",
        "    pc.create_index(\n",
        "        index_name,\n",
        "        dimension=768,\n",
        "        metric='cosine',\n",
        "        spec=spec\n",
        "    )\n",
        "    # wait for index to be initialized\n",
        "    while not pc.describe_index(index_name).status['ready']:\n",
        "        time.sleep(1)\n",
        "\n",
        "# connect to index\n",
        "index = pc.Index(index_name)\n",
        "# view index stats\n",
        "index.describe_index_stats()"
      ],
      "metadata": {
        "colab": {
          "base_uri": "https://localhost:8080/"
        },
        "id": "C6HSKX_LA5El",
        "outputId": "4a9f7706-5ee2-47ea-eb48-105905c15a5a"
      },
      "execution_count": null,
      "outputs": [
        {
          "output_type": "execute_result",
          "data": {
            "text/plain": [
              "{'dimension': 768,\n",
              " 'index_fullness': 0.0,\n",
              " 'namespaces': {'': {'vector_count': 10000}},\n",
              " 'total_vector_count': 10000}"
            ]
          },
          "metadata": {},
          "execution_count": 115
        }
      ]
    },
    {
      "cell_type": "markdown",
      "source": [
        "\n",
        "\n",
        "---\n",
        "\n",
        "\n",
        "\n",
        "---\n",
        "\n"
      ],
      "metadata": {
        "id": "GH0F4T52TBsi"
      }
    },
    {
      "cell_type": "markdown",
      "source": [
        "# **Initializing Retriever Model**"
      ],
      "metadata": {
        "id": "4Yb25uJxDmzP"
      }
    },
    {
      "cell_type": "code",
      "source": [
        "import torch\n",
        "from sentence_transformers import SentenceTransformer\n",
        "\n",
        "# set device to GPU if available\n",
        "device = 'cuda' if torch.cuda.is_available() else 'cpu'\n",
        "\n",
        "# load the retriever model from huggingface model hub\n",
        "retriever = SentenceTransformer(\"flax-sentence-embeddings/all_datasets_v3_mpnet-base\", device=device)\n",
        "retriever"
      ],
      "metadata": {
        "colab": {
          "base_uri": "https://localhost:8080/"
        },
        "id": "y386DEkH7RF0",
        "outputId": "456c88a2-1f3f-42f6-9917-5e876ef5ac0b"
      },
      "execution_count": null,
      "outputs": [
        {
          "output_type": "stream",
          "name": "stderr",
          "text": [
            "/usr/local/lib/python3.10/dist-packages/huggingface_hub/file_download.py:1132: FutureWarning: `resume_download` is deprecated and will be removed in version 1.0.0. Downloads always resume when possible. If you want to force a new download, use `force_download=True`.\n",
            "  warnings.warn(\n"
          ]
        },
        {
          "output_type": "execute_result",
          "data": {
            "text/plain": [
              "SentenceTransformer(\n",
              "  (0): Transformer({'max_seq_length': 128, 'do_lower_case': False}) with Transformer model: MPNetModel \n",
              "  (1): Pooling({'word_embedding_dimension': 768, 'pooling_mode_cls_token': False, 'pooling_mode_mean_tokens': True, 'pooling_mode_max_tokens': False, 'pooling_mode_mean_sqrt_len_tokens': False, 'pooling_mode_weightedmean_tokens': False, 'pooling_mode_lasttoken': False, 'include_prompt': True})\n",
              "  (2): Normalize()\n",
              ")"
            ]
          },
          "metadata": {},
          "execution_count": 111
        }
      ]
    },
    {
      "cell_type": "markdown",
      "source": [
        "\n",
        "\n",
        "---\n",
        "\n",
        "\n",
        "\n",
        "---\n",
        "\n"
      ],
      "metadata": {
        "id": "SOoXgHH3TAmQ"
      }
    },
    {
      "cell_type": "markdown",
      "source": [
        "# **Generate Embeddings**"
      ],
      "metadata": {
        "id": "H8hpMJOlD5lP"
      }
    },
    {
      "cell_type": "code",
      "source": [
        "# we will use batches of 64\n",
        "batch_size = 64\n",
        "\n",
        "for i in tqdm(range(0, len(df), batch_size)):\n",
        "    # find end of batch\n",
        "    i_end = min(i+batch_size, len(df))\n",
        "    # extract batch\n",
        "    batch = df.iloc[i:i_end]\n",
        "    # generate embeddings for batch\n",
        "    emb = retriever.encode(batch[\"Abstract\"].tolist()).tolist()\n",
        "    # get metadata\n",
        "    meta = batch.to_dict(orient=\"records\")\n",
        "    # create unique IDs\n",
        "    ids = [f\"{idx}\" for idx in range(i, i_end)]\n",
        "    # add all to upsert list\n",
        "    to_upsert = list(zip(ids, emb, meta))\n",
        "    # upsert/insert these records to pinecone\n",
        "    _ = index.upsert(vectors=to_upsert)\n",
        "\n",
        "# check that we have all vectors in index\n",
        "index.describe_index_stats()"
      ],
      "metadata": {
        "colab": {
          "base_uri": "https://localhost:8080/",
          "height": 118,
          "referenced_widgets": [
            "0104e4d375d94938a3aa4591f5db4dcf",
            "e814f9472ee44136b2fac3d270200f14",
            "56cfae7d33664fadbad07b7df62e2794",
            "64cc367dba37486c9f621791ad7ff2cf",
            "44a6aeb69de74619835b6c87320a9c26",
            "e447618560344d878136f16d0e6a08f7",
            "d2c00e288bb14d3d947ae7be75c97757",
            "75cc71ea48ca4f0cb2dee3e71c8c202a",
            "ab81f1ce0f9f4eb4acc64cff93565af6",
            "dc56931b4b3b4cc29b5c2a9a52a701fb",
            "1800767f6ead4d588a6f9f214fe2bd9c"
          ]
        },
        "id": "bdN5WVe57RIr",
        "outputId": "236c6ff1-bb27-4756-bb6b-617ff72fc954"
      },
      "execution_count": null,
      "outputs": [
        {
          "output_type": "display_data",
          "data": {
            "text/plain": [
              "  0%|          | 0/157 [00:00<?, ?it/s]"
            ],
            "application/vnd.jupyter.widget-view+json": {
              "version_major": 2,
              "version_minor": 0,
              "model_id": "0104e4d375d94938a3aa4591f5db4dcf"
            }
          },
          "metadata": {}
        },
        {
          "output_type": "execute_result",
          "data": {
            "text/plain": [
              "{'dimension': 768,\n",
              " 'index_fullness': 0.0,\n",
              " 'namespaces': {'': {'vector_count': 18320}},\n",
              " 'total_vector_count': 18320}"
            ]
          },
          "metadata": {},
          "execution_count": 116
        }
      ]
    },
    {
      "cell_type": "markdown",
      "source": [
        "\n",
        "\n",
        "---\n",
        "\n",
        "\n",
        "\n",
        "---\n",
        "\n"
      ],
      "metadata": {
        "id": "I3WqWn41S_Pt"
      }
    },
    {
      "cell_type": "markdown",
      "source": [
        "# **Initialize Generator**"
      ],
      "metadata": {
        "id": "C94lO_99EHDj"
      }
    },
    {
      "cell_type": "code",
      "source": [
        "from transformers import BartTokenizer, BartForConditionalGeneration\n",
        "\n",
        "# load bart tokenizer and model from huggingface\n",
        "tokenizer = BartTokenizer.from_pretrained('vblagoje/bart_lfqa')\n",
        "generator = BartForConditionalGeneration.from_pretrained('vblagoje/bart_lfqa').to(device)"
      ],
      "metadata": {
        "id": "raNdnUWx7RLS"
      },
      "execution_count": null,
      "outputs": []
    },
    {
      "cell_type": "code",
      "source": [
        "def query_pinecone(query, top_k):\n",
        "    # generate embeddings for the query\n",
        "    xq = retriever.encode([query]).tolist()\n",
        "    # search pinecone index for context passage with the answer\n",
        "    xc = index.query(vector=xq, top_k=top_k, include_metadata=True)\n",
        "    return xc"
      ],
      "metadata": {
        "id": "gWam4LLT7RN2"
      },
      "execution_count": null,
      "outputs": []
    },
    {
      "cell_type": "code",
      "source": [
        "def format_query(query, context):\n",
        "    # extract Abstract from Pinecone search result and add the <P> tag\n",
        "    context = [f\"<P> {m['metadata']['Abstract']}\" for m in context]\n",
        "\n",
        "    context = \" \".join(context)\n",
        "\n",
        "    query = f\"question: {query} context: {context}\"\n",
        "    return query"
      ],
      "metadata": {
        "id": "2dy_9ksMEfTg"
      },
      "execution_count": null,
      "outputs": []
    },
    {
      "cell_type": "code",
      "source": [
        "query = \"what is hydrogen storage?\"\n",
        "\n",
        "# Obtaining Abstracts with releveant information related to the topic\n",
        "result = query_pinecone(query, top_k=1)\n",
        "result"
      ],
      "metadata": {
        "colab": {
          "base_uri": "https://localhost:8080/"
        },
        "id": "gxlPpmfAEgWT",
        "outputId": "b1288a96-90e3-4fa9-ca5b-c34f098988a5"
      },
      "execution_count": null,
      "outputs": [
        {
          "output_type": "execute_result",
          "data": {
            "text/plain": [
              "{'matches': [{'id': '9967',\n",
              "              'metadata': {'Abstract': 'Hydrogen energy is regarded as the '\n",
              "                                       'clean energy with the most development '\n",
              "                                       'potential. In order to realize the '\n",
              "                                       'large-scale application of hydrogen '\n",
              "                                       'energy, the problem of hydrogen '\n",
              "                                       'storage must be solved. At present, '\n",
              "                                       'there are three main ways of hydrogen '\n",
              "                                       'storage, namely compressed hydrogen '\n",
              "                                       'storage, liquid hydrogen storage, and '\n",
              "                                       'solid-state hydrogen storage. '\n",
              "                                       'Compressed hydrogen storage is the '\n",
              "                                       'most commonly used hydrogen storage '\n",
              "                                       'method. After the hydrogen is '\n",
              "                                       'compressed, it is stored in the form '\n",
              "                                       'of gas in a cylinder. It has the '\n",
              "                                       'advantages of low cost and fast '\n",
              "                                       'charging and discharging speed, but '\n",
              "                                       'its volumetric hydrogen storage '\n",
              "                                       'density is extremely low. Liquid '\n",
              "                                       'hydrogen storage is a cryogenic '\n",
              "                                       'hydrogen storage technology. After the '\n",
              "                                       'hydrogen is compressed, it is '\n",
              "                                       'cryogenically cooled to below −253°C '\n",
              "                                       'to become liquid hydrogen for storage. '\n",
              "                                       'Liquid hydrogen has the advantages of '\n",
              "                                       'high storage efficiency and good '\n",
              "                                       'volumetric hydrogen storage density, '\n",
              "                                       'but the liquefaction of hydrogen '\n",
              "                                       'requires a lot of energy, so its '\n",
              "                                       'storage cost is high. Solid-state '\n",
              "                                       'hydrogen storage technology is one of '\n",
              "                                       'the most promising hydrogen storage '\n",
              "                                       'technologies, which utilizes the '\n",
              "                                       'physical adsorption or chemical '\n",
              "                                       'reaction characteristics between '\n",
              "                                       'hydrogen and materials to store '\n",
              "                                       'hydrogen. It has the advantages of '\n",
              "                                       'good safety and high volumetric '\n",
              "                                       'hydrogen storage density. Therefore, '\n",
              "                                       'solid-state hydrogen storage is '\n",
              "                                       'considered to be one of the most '\n",
              "                                       'promising hydrogen storage '\n",
              "                                       'technologies. However, in order to '\n",
              "                                       'develop solid-state hydrogen storage '\n",
              "                                       'technology, we must find and develop '\n",
              "                                       'high-performance hydrogen storage '\n",
              "                                       'materials, which have become a top '\n",
              "                                       'priority. The current chapter mainly '\n",
              "                                       'presents an overview of the '\n",
              "                                       'developments of three hydrogen storage '\n",
              "                                       'technologies. In particular, the '\n",
              "                                       'solid-state hydrogen storage '\n",
              "                                       'technology and hydrogen storage alloys '\n",
              "                                       'are emphatically introduced. © 2024 '\n",
              "                                       'Elsevier Inc. All rights reserved.'},\n",
              "              'score': 0.730585337,\n",
              "              'values': []}],\n",
              " 'namespace': '',\n",
              " 'usage': {'read_units': 6}}"
            ]
          },
          "metadata": {},
          "execution_count": 149
        }
      ]
    },
    {
      "cell_type": "code",
      "source": [
        "def generate_answer(query):\n",
        "    # tokenize the query to get input_ids\n",
        "    inputs = tokenizer([query], max_length=1024, return_tensors=\"pt\").to(device)\n",
        "    # use generator to predict output ids\n",
        "    ids = generator.generate(inputs[\"input_ids\"], num_beams=2, min_length=20, max_length=60)\n",
        "    # use tokenizer to decode the output ids\n",
        "    answer = tokenizer.batch_decode(ids, skip_special_tokens=True, clean_up_tokenization_spaces=False)[0]\n",
        "    return print(answer)"
      ],
      "metadata": {
        "id": "kBldXbJ_EgZL"
      },
      "execution_count": null,
      "outputs": []
    },
    {
      "cell_type": "code",
      "source": [
        "def qa_generate(question):\n",
        "  context = query_pinecone(question, top_k=10)\n",
        "  question = format_query(question, context[\"matches\"])\n",
        "  answer = generate_answer(question)\n",
        "  return answer"
      ],
      "metadata": {
        "id": "jT8PM1sWEgey"
      },
      "execution_count": null,
      "outputs": []
    },
    {
      "cell_type": "markdown",
      "source": [
        "# **Testing**"
      ],
      "metadata": {
        "id": "NGr-JpHHNRCj"
      }
    },
    {
      "cell_type": "code",
      "source": [
        "query1 = \"what are the different methods of hydrogen storage?\"\n",
        "context = query_pinecone(query1, top_k=10)\n",
        "query1 = format_query(query1, context[\"matches\"])\n",
        "generate_answer(query1)"
      ],
      "metadata": {
        "colab": {
          "base_uri": "https://localhost:8080/"
        },
        "id": "t0C9Xuz7Eghq",
        "outputId": "48e86955-46db-40a2-b74d-30f0b72bdc88"
      },
      "execution_count": null,
      "outputs": [
        {
          "output_type": "stream",
          "name": "stdout",
          "text": [
            "There are three main methods of hydrogen storage: compressed hydrogen, liquid hydrogen, and solid hydrogen. The first two are the most common, but the third is the most promising. Compressed hydrogen storage is the most commonly used hydrogen storage method.\n"
          ]
        }
      ]
    },
    {
      "cell_type": "code",
      "source": [
        "qa_generate(query1)"
      ],
      "metadata": {
        "colab": {
          "base_uri": "https://localhost:8080/"
        },
        "id": "lUfGL0kxQOax",
        "outputId": "c18302e4-efa4-4356-d4a8-394f59df1c83"
      },
      "execution_count": null,
      "outputs": [
        {
          "output_type": "stream",
          "name": "stdout",
          "text": [
            "There are three main ways to store hydrogen. The first is to compress the hydrogen gas to a very low pressure. The second is to liquefy the hydrogen gas. The third is to store the hydrogen as a liquid in a container.\n"
          ]
        }
      ]
    },
    {
      "cell_type": "markdown",
      "source": [
        "\n",
        "\n",
        "---\n",
        "\n"
      ],
      "metadata": {
        "id": "oUfueYunSS3A"
      }
    },
    {
      "cell_type": "code",
      "source": [
        "query2 = \"why are metal hydrides important in hydrogen storage?\"\n",
        "context = query_pinecone(query2, top_k=5)\n",
        "query2 = format_query(query2, context[\"matches\"])\n",
        "generate_answer(query2)"
      ],
      "metadata": {
        "colab": {
          "base_uri": "https://localhost:8080/"
        },
        "id": "IrqrYZRzEgkW",
        "outputId": "870c3273-57c3-4758-9ce2-0b28cb344f50"
      },
      "execution_count": null,
      "outputs": [
        {
          "output_type": "stream",
          "name": "stdout",
          "text": [
            "Metal hydrides are a good choice for storing hydrogen because they have a very low melting point. This means that they can be stored in a very small volume, and they can be stored at a very low temperature. This means that they can be stored in a very small space, and\n"
          ]
        }
      ]
    },
    {
      "cell_type": "code",
      "source": [
        "qa_generate(query2)"
      ],
      "metadata": {
        "colab": {
          "base_uri": "https://localhost:8080/"
        },
        "id": "bDotgaZvQend",
        "outputId": "18eda714-c7f2-4b9c-952a-800ab3e9ee9f"
      },
      "execution_count": null,
      "outputs": [
        {
          "output_type": "stream",
          "name": "stdout",
          "text": [
            "Metal hydrides are a good choice for storing hydrogen because they have a very low melting point. This means that they can be stored in a very small volume, and they can be stored at a very low temperature. This means that they can be stored in a very small volume, and\n"
          ]
        }
      ]
    },
    {
      "cell_type": "markdown",
      "source": [
        "\n",
        "\n",
        "---\n",
        "\n"
      ],
      "metadata": {
        "id": "b0jRFGLRSUSk"
      }
    },
    {
      "cell_type": "code",
      "source": [
        "query3 = \"what is hydrogen?\"\n",
        "context = query_pinecone(query3, top_k=10)\n",
        "query3 = format_query(query3, context[\"matches\"])\n",
        "generate_answer(query3)"
      ],
      "metadata": {
        "colab": {
          "base_uri": "https://localhost:8080/"
        },
        "id": "FBCHIz9XEgnH",
        "outputId": "4d6889f1-312c-419d-b53f-07790fca67a8"
      },
      "execution_count": null,
      "outputs": [
        {
          "output_type": "stream",
          "name": "stdout",
          "text": [
            "Hydrogen is the most abundant element in the universe. It is also the most abundant element in the atmosphere. It is also the most abundant element in the universe, but it is not found as a free molecule in the atmosphere. It is found in many chemicals around us, from water and\n"
          ]
        }
      ]
    },
    {
      "cell_type": "markdown",
      "source": [
        "\n",
        "\n",
        "---\n",
        "\n",
        "\n",
        "\n",
        "---\n",
        "\n"
      ],
      "metadata": {
        "id": "01dHDioLd1uw"
      }
    }
  ]
}